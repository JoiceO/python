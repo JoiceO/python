{
  "nbformat": 4,
  "nbformat_minor": 0,
  "metadata": {
    "colab": {
      "provenance": [],
      "collapsed_sections": []
    },
    "kernelspec": {
      "name": "python3",
      "display_name": "Python 3"
    },
    "language_info": {
      "name": "python"
    }
  },
  "cells": [
    {
      "cell_type": "markdown",
      "source": [
        "Experimento:\n",
        "500 pessoas que não possuem animais de estimação assistem aos vídeos\n",
        "de campanha de adoção. Os vídeos são idênticos com exceção dos animais\n",
        "mostrados:\n",
        "\n",
        "- 250 pessoas aleatorizadas para o vídeo com gato\n",
        "- 250 pessoas aleatorizadas para o vídeo com cachorro\n",
        "\n",
        "Objetivo: Avaliar qual animal (cachorro ou gato) deve estar\n",
        "em um vídeo de campanha de adoção\n",
        "\n",
        "Resposta:\n",
        "\"Qual a chance de adotar um pet? (0-100)\" depois do vídeo?\"\n",
        "A média de probabilidade de quem vê o vídeo de gato é igual a de cachorro?\n",
        "\n",
        "\n",
        "Considerar que:<br>\n",
        "*As pessoas desse experimento só verão 1 vídeo cada;<br>\n",
        "*Ao final do vídeo perguntamos a elas a probabilidade de que elas adotem um animal;<br>\n",
        "*As amostras são aleatórias e sem viéses sistemáticos.\n",
        "\n"
      ],
      "metadata": {
        "id": "7uA-0kUNd0Yr"
      }
    },
    {
      "cell_type": "code",
      "metadata": {
        "id": "mLeQWIuu9oEL"
      },
      "source": [
        "#carregando as bibliotecas\n",
        "import pandas as pd\n",
        "import numpy as np\n",
        "import seaborn as sns\n",
        "from matplotlib import pyplot as plt"
      ],
      "execution_count": 1,
      "outputs": []
    },
    {
      "cell_type": "code",
      "metadata": {
        "id": "QlkdX31vAQQs"
      },
      "source": [
        "#base de dados\n",
        "df = pd.read_csv(\"https://raw.githubusercontent.com/JoiceO/python/master/estatistica-basico-avancado/02_cachorro_gato.csv\")"
      ],
      "execution_count": 2,
      "outputs": []
    },
    {
      "cell_type": "code",
      "source": [
        "df.head(5)\n",
        "#na coluna 'grupo' temos que 0 é se a pessoa assistiu o vídeo com cachorro e 1 se o vídeo tinha um gato. \n",
        "#coluna 'escore' mostra a probabilidade da pessoa adotar o pet após assistir o vídeo"
      ],
      "metadata": {
        "colab": {
          "base_uri": "https://localhost:8080/",
          "height": 206
        },
        "id": "bCKbO_RXJUdy",
        "outputId": "4663fc0c-2ea2-4ddd-d3b8-609273cb654d"
      },
      "execution_count": 4,
      "outputs": [
        {
          "output_type": "execute_result",
          "data": {
            "text/plain": [
              "   Unnamed: 0  grupo     escore\n",
              "0           0      1  59.853433\n",
              "1           1      0  66.353529\n",
              "2           2      1  56.495813\n",
              "3           3      0  67.995090\n",
              "4           4      1  70.434375"
            ],
            "text/html": [
              "\n",
              "  <div id=\"df-b92b7c2c-5480-4697-a527-24f0b112ac78\">\n",
              "    <div class=\"colab-df-container\">\n",
              "      <div>\n",
              "<style scoped>\n",
              "    .dataframe tbody tr th:only-of-type {\n",
              "        vertical-align: middle;\n",
              "    }\n",
              "\n",
              "    .dataframe tbody tr th {\n",
              "        vertical-align: top;\n",
              "    }\n",
              "\n",
              "    .dataframe thead th {\n",
              "        text-align: right;\n",
              "    }\n",
              "</style>\n",
              "<table border=\"1\" class=\"dataframe\">\n",
              "  <thead>\n",
              "    <tr style=\"text-align: right;\">\n",
              "      <th></th>\n",
              "      <th>Unnamed: 0</th>\n",
              "      <th>grupo</th>\n",
              "      <th>escore</th>\n",
              "    </tr>\n",
              "  </thead>\n",
              "  <tbody>\n",
              "    <tr>\n",
              "      <th>0</th>\n",
              "      <td>0</td>\n",
              "      <td>1</td>\n",
              "      <td>59.853433</td>\n",
              "    </tr>\n",
              "    <tr>\n",
              "      <th>1</th>\n",
              "      <td>1</td>\n",
              "      <td>0</td>\n",
              "      <td>66.353529</td>\n",
              "    </tr>\n",
              "    <tr>\n",
              "      <th>2</th>\n",
              "      <td>2</td>\n",
              "      <td>1</td>\n",
              "      <td>56.495813</td>\n",
              "    </tr>\n",
              "    <tr>\n",
              "      <th>3</th>\n",
              "      <td>3</td>\n",
              "      <td>0</td>\n",
              "      <td>67.995090</td>\n",
              "    </tr>\n",
              "    <tr>\n",
              "      <th>4</th>\n",
              "      <td>4</td>\n",
              "      <td>1</td>\n",
              "      <td>70.434375</td>\n",
              "    </tr>\n",
              "  </tbody>\n",
              "</table>\n",
              "</div>\n",
              "      <button class=\"colab-df-convert\" onclick=\"convertToInteractive('df-b92b7c2c-5480-4697-a527-24f0b112ac78')\"\n",
              "              title=\"Convert this dataframe to an interactive table.\"\n",
              "              style=\"display:none;\">\n",
              "        \n",
              "  <svg xmlns=\"http://www.w3.org/2000/svg\" height=\"24px\"viewBox=\"0 0 24 24\"\n",
              "       width=\"24px\">\n",
              "    <path d=\"M0 0h24v24H0V0z\" fill=\"none\"/>\n",
              "    <path d=\"M18.56 5.44l.94 2.06.94-2.06 2.06-.94-2.06-.94-.94-2.06-.94 2.06-2.06.94zm-11 1L8.5 8.5l.94-2.06 2.06-.94-2.06-.94L8.5 2.5l-.94 2.06-2.06.94zm10 10l.94 2.06.94-2.06 2.06-.94-2.06-.94-.94-2.06-.94 2.06-2.06.94z\"/><path d=\"M17.41 7.96l-1.37-1.37c-.4-.4-.92-.59-1.43-.59-.52 0-1.04.2-1.43.59L10.3 9.45l-7.72 7.72c-.78.78-.78 2.05 0 2.83L4 21.41c.39.39.9.59 1.41.59.51 0 1.02-.2 1.41-.59l7.78-7.78 2.81-2.81c.8-.78.8-2.07 0-2.86zM5.41 20L4 18.59l7.72-7.72 1.47 1.35L5.41 20z\"/>\n",
              "  </svg>\n",
              "      </button>\n",
              "      \n",
              "  <style>\n",
              "    .colab-df-container {\n",
              "      display:flex;\n",
              "      flex-wrap:wrap;\n",
              "      gap: 12px;\n",
              "    }\n",
              "\n",
              "    .colab-df-convert {\n",
              "      background-color: #E8F0FE;\n",
              "      border: none;\n",
              "      border-radius: 50%;\n",
              "      cursor: pointer;\n",
              "      display: none;\n",
              "      fill: #1967D2;\n",
              "      height: 32px;\n",
              "      padding: 0 0 0 0;\n",
              "      width: 32px;\n",
              "    }\n",
              "\n",
              "    .colab-df-convert:hover {\n",
              "      background-color: #E2EBFA;\n",
              "      box-shadow: 0px 1px 2px rgba(60, 64, 67, 0.3), 0px 1px 3px 1px rgba(60, 64, 67, 0.15);\n",
              "      fill: #174EA6;\n",
              "    }\n",
              "\n",
              "    [theme=dark] .colab-df-convert {\n",
              "      background-color: #3B4455;\n",
              "      fill: #D2E3FC;\n",
              "    }\n",
              "\n",
              "    [theme=dark] .colab-df-convert:hover {\n",
              "      background-color: #434B5C;\n",
              "      box-shadow: 0px 1px 3px 1px rgba(0, 0, 0, 0.15);\n",
              "      filter: drop-shadow(0px 1px 2px rgba(0, 0, 0, 0.3));\n",
              "      fill: #FFFFFF;\n",
              "    }\n",
              "  </style>\n",
              "\n",
              "      <script>\n",
              "        const buttonEl =\n",
              "          document.querySelector('#df-b92b7c2c-5480-4697-a527-24f0b112ac78 button.colab-df-convert');\n",
              "        buttonEl.style.display =\n",
              "          google.colab.kernel.accessAllowed ? 'block' : 'none';\n",
              "\n",
              "        async function convertToInteractive(key) {\n",
              "          const element = document.querySelector('#df-b92b7c2c-5480-4697-a527-24f0b112ac78');\n",
              "          const dataTable =\n",
              "            await google.colab.kernel.invokeFunction('convertToInteractive',\n",
              "                                                     [key], {});\n",
              "          if (!dataTable) return;\n",
              "\n",
              "          const docLinkHtml = 'Like what you see? Visit the ' +\n",
              "            '<a target=\"_blank\" href=https://colab.research.google.com/notebooks/data_table.ipynb>data table notebook</a>'\n",
              "            + ' to learn more about interactive tables.';\n",
              "          element.innerHTML = '';\n",
              "          dataTable['output_type'] = 'display_data';\n",
              "          await google.colab.output.renderOutput(dataTable, element);\n",
              "          const docLink = document.createElement('div');\n",
              "          docLink.innerHTML = docLinkHtml;\n",
              "          element.appendChild(docLink);\n",
              "        }\n",
              "      </script>\n",
              "    </div>\n",
              "  </div>\n",
              "  "
            ]
          },
          "metadata": {},
          "execution_count": 4
        }
      ]
    },
    {
      "cell_type": "code",
      "metadata": {
        "colab": {
          "base_uri": "https://localhost:8080/",
          "height": 175
        },
        "id": "G3vDcWocAihF",
        "outputId": "f7ddb9d9-a9c1-473e-a2e1-c62f68474a7b"
      },
      "source": [
        "#dados estatítiscos sobre as 2 variáveis da coluna 'grupo'\n",
        "df.groupby('grupo').describe()\n",
        "\n",
        "#Olhando pela média, a probabilidade de ser adotar um pet depois de assistir um vídeo com gato é maior"
      ],
      "execution_count": 6,
      "outputs": [
        {
          "output_type": "execute_result",
          "data": {
            "text/plain": [
              "      Unnamed: 0                                                           \\\n",
              "           count        mean         std  min    25%    50%    75%    max   \n",
              "grupo                                                                       \n",
              "0          253.0  247.470356  147.772334  1.0  117.0  256.0  366.0  499.0   \n",
              "1          247.0  251.578947  141.301675  0.0  131.5  240.0  377.5  497.0   \n",
              "\n",
              "      escore                                                         \\\n",
              "       count       mean        std        min        25%        50%   \n",
              "grupo                                                                 \n",
              "0      253.0  55.531922  14.665402  16.304739  44.488055  55.802372   \n",
              "1      247.0  56.744495  14.913287  14.654955  48.682432  56.924405   \n",
              "\n",
              "                             \n",
              "             75%        max  \n",
              "grupo                        \n",
              "0      66.249013  95.309459  \n",
              "1      66.817326  93.259671  "
            ],
            "text/html": [
              "\n",
              "  <div id=\"df-e24bef5c-ca78-4621-a9d7-927cbbea2db3\">\n",
              "    <div class=\"colab-df-container\">\n",
              "      <div>\n",
              "<style scoped>\n",
              "    .dataframe tbody tr th:only-of-type {\n",
              "        vertical-align: middle;\n",
              "    }\n",
              "\n",
              "    .dataframe tbody tr th {\n",
              "        vertical-align: top;\n",
              "    }\n",
              "\n",
              "    .dataframe thead tr th {\n",
              "        text-align: left;\n",
              "    }\n",
              "\n",
              "    .dataframe thead tr:last-of-type th {\n",
              "        text-align: right;\n",
              "    }\n",
              "</style>\n",
              "<table border=\"1\" class=\"dataframe\">\n",
              "  <thead>\n",
              "    <tr>\n",
              "      <th></th>\n",
              "      <th colspan=\"8\" halign=\"left\">Unnamed: 0</th>\n",
              "      <th colspan=\"8\" halign=\"left\">escore</th>\n",
              "    </tr>\n",
              "    <tr>\n",
              "      <th></th>\n",
              "      <th>count</th>\n",
              "      <th>mean</th>\n",
              "      <th>std</th>\n",
              "      <th>min</th>\n",
              "      <th>25%</th>\n",
              "      <th>50%</th>\n",
              "      <th>75%</th>\n",
              "      <th>max</th>\n",
              "      <th>count</th>\n",
              "      <th>mean</th>\n",
              "      <th>std</th>\n",
              "      <th>min</th>\n",
              "      <th>25%</th>\n",
              "      <th>50%</th>\n",
              "      <th>75%</th>\n",
              "      <th>max</th>\n",
              "    </tr>\n",
              "    <tr>\n",
              "      <th>grupo</th>\n",
              "      <th></th>\n",
              "      <th></th>\n",
              "      <th></th>\n",
              "      <th></th>\n",
              "      <th></th>\n",
              "      <th></th>\n",
              "      <th></th>\n",
              "      <th></th>\n",
              "      <th></th>\n",
              "      <th></th>\n",
              "      <th></th>\n",
              "      <th></th>\n",
              "      <th></th>\n",
              "      <th></th>\n",
              "      <th></th>\n",
              "      <th></th>\n",
              "    </tr>\n",
              "  </thead>\n",
              "  <tbody>\n",
              "    <tr>\n",
              "      <th>0</th>\n",
              "      <td>253.0</td>\n",
              "      <td>247.470356</td>\n",
              "      <td>147.772334</td>\n",
              "      <td>1.0</td>\n",
              "      <td>117.0</td>\n",
              "      <td>256.0</td>\n",
              "      <td>366.0</td>\n",
              "      <td>499.0</td>\n",
              "      <td>253.0</td>\n",
              "      <td>55.531922</td>\n",
              "      <td>14.665402</td>\n",
              "      <td>16.304739</td>\n",
              "      <td>44.488055</td>\n",
              "      <td>55.802372</td>\n",
              "      <td>66.249013</td>\n",
              "      <td>95.309459</td>\n",
              "    </tr>\n",
              "    <tr>\n",
              "      <th>1</th>\n",
              "      <td>247.0</td>\n",
              "      <td>251.578947</td>\n",
              "      <td>141.301675</td>\n",
              "      <td>0.0</td>\n",
              "      <td>131.5</td>\n",
              "      <td>240.0</td>\n",
              "      <td>377.5</td>\n",
              "      <td>497.0</td>\n",
              "      <td>247.0</td>\n",
              "      <td>56.744495</td>\n",
              "      <td>14.913287</td>\n",
              "      <td>14.654955</td>\n",
              "      <td>48.682432</td>\n",
              "      <td>56.924405</td>\n",
              "      <td>66.817326</td>\n",
              "      <td>93.259671</td>\n",
              "    </tr>\n",
              "  </tbody>\n",
              "</table>\n",
              "</div>\n",
              "      <button class=\"colab-df-convert\" onclick=\"convertToInteractive('df-e24bef5c-ca78-4621-a9d7-927cbbea2db3')\"\n",
              "              title=\"Convert this dataframe to an interactive table.\"\n",
              "              style=\"display:none;\">\n",
              "        \n",
              "  <svg xmlns=\"http://www.w3.org/2000/svg\" height=\"24px\"viewBox=\"0 0 24 24\"\n",
              "       width=\"24px\">\n",
              "    <path d=\"M0 0h24v24H0V0z\" fill=\"none\"/>\n",
              "    <path d=\"M18.56 5.44l.94 2.06.94-2.06 2.06-.94-2.06-.94-.94-2.06-.94 2.06-2.06.94zm-11 1L8.5 8.5l.94-2.06 2.06-.94-2.06-.94L8.5 2.5l-.94 2.06-2.06.94zm10 10l.94 2.06.94-2.06 2.06-.94-2.06-.94-.94-2.06-.94 2.06-2.06.94z\"/><path d=\"M17.41 7.96l-1.37-1.37c-.4-.4-.92-.59-1.43-.59-.52 0-1.04.2-1.43.59L10.3 9.45l-7.72 7.72c-.78.78-.78 2.05 0 2.83L4 21.41c.39.39.9.59 1.41.59.51 0 1.02-.2 1.41-.59l7.78-7.78 2.81-2.81c.8-.78.8-2.07 0-2.86zM5.41 20L4 18.59l7.72-7.72 1.47 1.35L5.41 20z\"/>\n",
              "  </svg>\n",
              "      </button>\n",
              "      \n",
              "  <style>\n",
              "    .colab-df-container {\n",
              "      display:flex;\n",
              "      flex-wrap:wrap;\n",
              "      gap: 12px;\n",
              "    }\n",
              "\n",
              "    .colab-df-convert {\n",
              "      background-color: #E8F0FE;\n",
              "      border: none;\n",
              "      border-radius: 50%;\n",
              "      cursor: pointer;\n",
              "      display: none;\n",
              "      fill: #1967D2;\n",
              "      height: 32px;\n",
              "      padding: 0 0 0 0;\n",
              "      width: 32px;\n",
              "    }\n",
              "\n",
              "    .colab-df-convert:hover {\n",
              "      background-color: #E2EBFA;\n",
              "      box-shadow: 0px 1px 2px rgba(60, 64, 67, 0.3), 0px 1px 3px 1px rgba(60, 64, 67, 0.15);\n",
              "      fill: #174EA6;\n",
              "    }\n",
              "\n",
              "    [theme=dark] .colab-df-convert {\n",
              "      background-color: #3B4455;\n",
              "      fill: #D2E3FC;\n",
              "    }\n",
              "\n",
              "    [theme=dark] .colab-df-convert:hover {\n",
              "      background-color: #434B5C;\n",
              "      box-shadow: 0px 1px 3px 1px rgba(0, 0, 0, 0.15);\n",
              "      filter: drop-shadow(0px 1px 2px rgba(0, 0, 0, 0.3));\n",
              "      fill: #FFFFFF;\n",
              "    }\n",
              "  </style>\n",
              "\n",
              "      <script>\n",
              "        const buttonEl =\n",
              "          document.querySelector('#df-e24bef5c-ca78-4621-a9d7-927cbbea2db3 button.colab-df-convert');\n",
              "        buttonEl.style.display =\n",
              "          google.colab.kernel.accessAllowed ? 'block' : 'none';\n",
              "\n",
              "        async function convertToInteractive(key) {\n",
              "          const element = document.querySelector('#df-e24bef5c-ca78-4621-a9d7-927cbbea2db3');\n",
              "          const dataTable =\n",
              "            await google.colab.kernel.invokeFunction('convertToInteractive',\n",
              "                                                     [key], {});\n",
              "          if (!dataTable) return;\n",
              "\n",
              "          const docLinkHtml = 'Like what you see? Visit the ' +\n",
              "            '<a target=\"_blank\" href=https://colab.research.google.com/notebooks/data_table.ipynb>data table notebook</a>'\n",
              "            + ' to learn more about interactive tables.';\n",
              "          element.innerHTML = '';\n",
              "          dataTable['output_type'] = 'display_data';\n",
              "          await google.colab.output.renderOutput(dataTable, element);\n",
              "          const docLink = document.createElement('div');\n",
              "          docLink.innerHTML = docLinkHtml;\n",
              "          element.appendChild(docLink);\n",
              "        }\n",
              "      </script>\n",
              "    </div>\n",
              "  </div>\n",
              "  "
            ]
          },
          "metadata": {},
          "execution_count": 6
        }
      ]
    },
    {
      "cell_type": "markdown",
      "source": [
        "#Histograma das 2 variáveis\n",
        "\n"
      ],
      "metadata": {
        "id": "dnt233JMKi4x"
      }
    },
    {
      "cell_type": "code",
      "metadata": {
        "colab": {
          "base_uri": "https://localhost:8080/",
          "height": 279
        },
        "id": "pNVFq5LXBEjf",
        "outputId": "028aa39b-1e4f-4f4d-c50b-62aeb19f3291"
      },
      "source": [
        "sns.histplot(df[df['grupo'] == 0]['escore'], label = 'Cachorro', color=\"blue\")  #histograma do grupo que viu o vídeo de cachorro\n",
        "sns.histplot(df[df['grupo'] == 1]['escore'], label = 'Gato', color = \"orange\") #histograma do grupo que viu o vídeo de gato\n",
        "plt.xlabel('Escore/Pontuação 0 a 100')\n",
        "plt.ylabel('Visualizações')\n",
        "plt.legend()\n",
        "plt.show()"
      ],
      "execution_count": 15,
      "outputs": [
        {
          "output_type": "display_data",
          "data": {
            "text/plain": [
              "<Figure size 432x288 with 1 Axes>"
            ],
            "image/png": "[encoded data removed]"
          },
          "metadata": {
            "needs_background": "light"
          }
        }
      ]
    },
    {
      "cell_type": "markdown",
      "source": [
        "Dados demonstram seguir a normal. Com o teste de hipótese podemos ver com mais detalhe qual grupo tem média maior."
      ],
      "metadata": {
        "id": "av9ddGfDc147"
      }
    },
    {
      "cell_type": "markdown",
      "source": [
        "O teste de hipótese escolhido deve ser para média, com 2 amostras independentes (quem viu vídeo de cachorro só viu cachorro e quem viu video de gato só viu de gato).\n",
        "Como não temos o desvio-padrão da população, podemos usar o teste t"
      ],
      "metadata": {
        "id": "Et_ZtwakdCgm"
      }
    },
    {
      "cell_type": "markdown",
      "metadata": {
        "id": "lUY3bH1rDyGZ"
      },
      "source": [
        "# Comparação entre os grupos por teste-t independente"
      ]
    },
    {
      "cell_type": "code",
      "metadata": {
        "id": "07S63VidD2A2"
      },
      "source": [
        "#função que realiza o teste-t para amostras independentes\n",
        "from scipy.stats import ttest_ind"
      ],
      "execution_count": 12,
      "outputs": []
    },
    {
      "cell_type": "code",
      "metadata": {
        "id": "lIIXqMsWEQcB",
        "colab": {
          "base_uri": "https://localhost:8080/"
        },
        "outputId": "3b1ad206-a21d-458b-e98b-86dbdfe16443"
      },
      "source": [
        "# a função retorna uma tupla. O primeiro valor é o valor do t e o segundo é o p-value\n",
        "ttest_ind(df[df['grupo'] == 0]['escore'], df[df['grupo'] == 1]['escore']) #0 é cachorro e 1 é gato"
      ],
      "execution_count": 16,
      "outputs": [
        {
          "output_type": "execute_result",
          "data": {
            "text/plain": [
              "Ttest_indResult(statistic=-0.9166663411409343, pvalue=0.35976119585131083)"
            ]
          },
          "metadata": {},
          "execution_count": 16
        }
      ]
    },
    {
      "cell_type": "code",
      "source": [
        "#organizando a tupla para denominar cada um dos valores\n",
        "t, pvalue = ttest_ind(df[df['grupo'] == 0]['escore'], df[df['grupo'] == 1]['escore'])\n",
        "print('stat=%.3f, p=%.3f' % (t, pvalue))"
      ],
      "metadata": {
        "id": "wGJgCZStdZeO",
        "colab": {
          "base_uri": "https://localhost:8080/"
        },
        "outputId": "ddf326a9-cb46-4061-f9eb-987aabbd3808"
      },
      "execution_count": 19,
      "outputs": [
        {
          "output_type": "stream",
          "name": "stdout",
          "text": [
            "stat=-0.917, p=0.360\n"
          ]
        }
      ]
    },
    {
      "cell_type": "markdown",
      "metadata": {
        "id": "8Hz7v-KqFfWs"
      },
      "source": [
        "Estabelecendo o nível de significância como 5%, como p > 0,05, podemos aceitar a hipótese nula. Logo, estatatisticamente as médias são iguais\n"
      ]
    }
  ]
}